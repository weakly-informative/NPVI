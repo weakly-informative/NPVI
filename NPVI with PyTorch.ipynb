{
 "cells": [
  {
   "cell_type": "code",
   "execution_count": 1,
   "metadata": {},
   "outputs": [],
   "source": [
    "import matplotlib.pyplot as plt\n",
    "import numpy as np\n",
    "import torch\n",
    "from torch import nn\n",
    "from torch import distributions\n",
    "from torch.utils.data import Dataset\n",
    "import pandas as pd\n",
    "from GMM import ISO_GMM"
   ]
  },
  {
   "cell_type": "markdown",
   "metadata": {},
   "source": [
    "### The model"
   ]
  },
  {
   "cell_type": "markdown",
   "metadata": {},
   "source": [
    "\\begin{alignat*}{3}\n",
    "    y_n | x_n & \\sim \\text{Bernoulli}(\\sigma( w \\cdot x_n )) \\,\\,& \\forall n \\in \\{1, \\ldots, N\\}\\\\\n",
    "    w_d & \\sim \\mathcal{N}(0, \\alpha_d) &  \\forall d \\in \\{1, \\ldots, D\\}\\\\\n",
    "    \\alpha_d & \\sim \\text{Gamma}(1, 0.01) &  \\forall d \\in \\{1, \\ldots, D\\} .\n",
    "\\end{alignat*}"
   ]
  },
  {
   "cell_type": "markdown",
   "metadata": {},
   "source": [
    "### Load data"
   ]
  },
  {
   "cell_type": "code",
   "execution_count": 2,
   "metadata": {},
   "outputs": [],
   "source": [
    "dataset_size =  5000 # choose something smaller than 5,000,000 :)\n",
    "batch_size = 128\n",
    "\n",
    "\n",
    "class SUSY(Dataset):\n",
    "    def __init__(self, path, nrows=None, skiprows=0):\n",
    "        aux = pd.read_csv(path, nrows=nrows, skiprows=skiprows)\n",
    "        self.data = torch.FloatTensor(aux.values)\n",
    "    def __len__(self):\n",
    "        return len(self.data)\n",
    "        \n",
    "    def __getitem__(self, idx):\n",
    "        sample = self.data[idx]\n",
    "        return sample\n",
    " \n",
    "dataset = SUSY('data/SUSY.csv', nrows=dataset_size)\n",
    "\n",
    "dataloader = torch.utils.data.DataLoader(dataset, batch_size=batch_size, num_workers=0, \n",
    "                                         shuffle=True, drop_last=True)"
   ]
  },
  {
   "cell_type": "markdown",
   "metadata": {},
   "source": [
    "### Define the ELBO for the Hiearchical logistic regression model"
   ]
  },
  {
   "cell_type": "code",
   "execution_count": 12,
   "metadata": {},
   "outputs": [],
   "source": [
    "class LR_ELBO(nn.Module):\n",
    "    def __init__(self, input_dim, var_samples=(128,)):\n",
    "        # define the priors here in the constructor\n",
    "        self.prior = distributions.MultivariateNormal(torch.zeros(input_dim-1), torch.eye(input_dim-1))\n",
    "        self.alpha_prior = distributions.Gamma(1, 0.01)\n",
    "        \n",
    "        # number of samples to be used to compute ELBO gradients\n",
    "        self.var_samples = var_samples\n",
    "        \n",
    "        \n",
    "    def avg_ll(self, variational_dist, data, dataset_size):\n",
    "        # this function defines the average log-likelihood\n",
    "        theta = variational_dist.sample((self.var_samples,))\n",
    "\n",
    "        weights = theta[:, 1:]\n",
    "        \n",
    "        y = data[:, 0]\n",
    "        X = data[:, 1:]\n",
    "        \n",
    "        scores = torch.sigmoid(torch.mm(X, torch.t(weights)))\n",
    "        Elog_lik = torch.mean( torch.mean(torch.log(scores), 1) * y - torch.mean(torch.log(1 + scores), 1))\n",
    "                \n",
    "        return  Elog_lik\n",
    "        \n",
    "    def loss(self, variational_dist, data, dataset_size):\n",
    "        #Computes the ELBO\n",
    "        \n",
    "        # 1. Get variational samples\n",
    "        theta = variational_dist.sample( (self.var_samples,))\n",
    "        \n",
    "        # 2. Compute negative entropy\n",
    "        log_probs = variational_dist.log_prob(theta)\n",
    "        neg_entropy = - log_probs.mean()        \n",
    "        \n",
    "        # 3. Compute the E_q[log prior] term\n",
    "        alphas = torch.exp(theta[:, 0])\n",
    "        alphas_lp = self.alpha_prior.log_prob(alphas).mean()\n",
    "        weights = theta[:, 1:]\n",
    "        weights_norm = weights / torch.sqrt(alphas).view(weights.shape[0], 1)\n",
    "        log_prior = self.prior.log_prob(weights_norm)\n",
    "        Elog_prior = log_prior.mean()\n",
    "        \n",
    "        # 4. Compute the E_q[log likelihood] term\n",
    "        Elog_lik = self.avg_ll(variational_dist, data, dataset_size) * dataset_size\n",
    "        \n",
    "        # 5. Put all the parts together\n",
    "        ELBO = Elog_lik + Elog_prior + neg_entropy\n",
    "        return  ELBO"
   ]
  },
  {
   "cell_type": "markdown",
   "metadata": {},
   "source": [
    "### Create variational distribution and choose optimization settings"
   ]
  },
  {
   "cell_type": "code",
   "execution_count": 13,
   "metadata": {},
   "outputs": [],
   "source": [
    "variational_dist = ISO_GMM(K=4, D=18+1)\n",
    "lr = 1e-1 # was 1e-3\n",
    "optimizer = torch.optim.Adagrad([variational_dist.mu, variational_dist.var], lr=lr)\n",
    "epochs = 200"
   ]
  },
  {
   "cell_type": "markdown",
   "metadata": {},
   "source": [
    "### Optimization loop"
   ]
  },
  {
   "cell_type": "code",
   "execution_count": 14,
   "metadata": {},
   "outputs": [
    {
     "name": "stdout",
     "output_type": "stream",
     "text": [
      "epoch 100: loss = -3084.699\n",
      "epoch 100: avg_ll = -0.614\n",
      "epoch 200: loss = -2979.918\n",
      "epoch 200: avg_ll = -0.592\n"
     ]
    }
   ],
   "source": [
    "elbo = LR_ELBO(input_dim=18+1, var_samples=32)\n",
    "\n",
    "avg_ll_hist = []\n",
    "avg_elbo_hist = []\n",
    "\n",
    "for t in range(1, epochs+1):\n",
    "    avg_elbo = 0.0\n",
    "    avg_ll = 0\n",
    "    for data in dataloader:\n",
    "        # optimization step\n",
    "        optimizer.zero_grad()\n",
    "        loss = -elbo.loss(variational_dist, data, dataset_size)\n",
    "        loss.backward()\n",
    "        optimizer.step()\n",
    "        \n",
    "        # interesting values\n",
    "        avg_elbo += loss.detach()\n",
    "        avg_ll += elbo.avg_ll(variational_dist, data, dataset_size)\n",
    "\n",
    "    avg_ll = avg_ll/len(dataloader)\n",
    "    avg_elbo = -avg_elbo/len(dataloader)\n",
    "\n",
    "    avg_ll_hist.append(avg_ll)\n",
    "    avg_elbo_hist.append(avg_elbo)\n",
    "    \n",
    "    if t % 100 == 0:\n",
    "        print('epoch %s:' % t, 'loss = %.3f' % avg_elbo)\n",
    "        print('epoch %s:' % t, 'avg_ll = %.3f' % avg_ll)"
   ]
  },
  {
   "cell_type": "code",
   "execution_count": 15,
   "metadata": {},
   "outputs": [
    {
     "data": {
      "image/png": "[encoded data removed]",
      "text/plain": [
       "<Figure size 864x288 with 2 Axes>"
      ]
     },
     "metadata": {
      "needs_background": "light"
     },
     "output_type": "display_data"
    }
   ],
   "source": [
    "plt.style.use('bmh')\n",
    "xaxis = np.arange(epochs)\n",
    "plt.figure(figsize=(12, 4))\n",
    "\n",
    "plt.subplot(1, 2, 1)\n",
    "plt.plot(xaxis, np.array(avg_ll_hist))\n",
    "plt.xlabel('Epochs')\n",
    "plt.ylabel('Avg. ll')\n",
    "\n",
    "plt.subplot(1, 2, 2)\n",
    "plt.plot(xaxis, np.array(avg_elbo_hist))\n",
    "plt.xlabel('Epochs')\n",
    "plt.ylabel('ELBO')\n",
    "plt.show()"
   ]
  }
 ],
 "metadata": {
  "kernelspec": {
   "display_name": "Python 3",
   "language": "python",
   "name": "python3"
  },
  "language_info": {
   "codemirror_mode": {
    "name": "ipython",
    "version": 3
   },
   "file_extension": ".py",
   "mimetype": "text/x-python",
   "name": "python",
   "nbconvert_exporter": "python",
   "pygments_lexer": "ipython3",
   "version": "3.6.9"
  }
 },
 "nbformat": 4,
 "nbformat_minor": 2
}
